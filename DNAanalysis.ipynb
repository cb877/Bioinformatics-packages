{
 "cells": [
  {
   "cell_type": "markdown",
   "id": "5a120f42-386f-4d3b-afc0-9fa68b3d89d9",
   "metadata": {},
   "source": [
    "### Guide to using Jupyter Notebook Christina's DNA Analysis codes.\n",
    "\n",
    "<font color='green'>**Using functions you need**</font> \\\n",
    "You will need to read cells 1-5 regardless of which functions you want to analyse your DNA with. After that select whichever cell you need. Cells 6 and 7 must be used chronologically. Cells 8 and 9 must be used chronologically. \n",
    "\n",
    "<font color='green'>**Keeping Outputs concise**</font> \\\n",
    "Some readable code has been muted (#) to make analysis more streamlined. Delete only the four letters in #CODE, but don't change any of the spacing. Spacing is essential for readability of python scripts.\n",
    "\n",
    "<font color='green'>**Data Quality checkpoints**</font> \\\n",
    "A number of cells are numbered as .1 and are data quality checkpoints. These are to make sure your imports and code is being read correctly. You don't need to run them if your code is working, but it's always good to double check.\n",
    "\n",
    "<font color='green'>**Troubleshooting**</font> \\\n",
    "There is a separate Jupyter Notebook called Troubleshooting if you are having issues importing your files."
   ]
  },
  {
   "cell_type": "code",
   "execution_count": 336,
   "id": "a7be867b-a655-4989-9ccb-e93dd0f195a5",
   "metadata": {},
   "outputs": [
    {
     "data": {
      "text/html": [
       "<img src onerror=\"var cell = this.closest('.jp-CodeCell');var editor = cell.querySelector('.jp-Editor');editor.style.background='#000000';this.parentNode.removeChild(this)\" style=\"display:none\">"
      ],
      "text/plain": [
       "<IPython.core.display.HTML object>"
      ]
     },
     "metadata": {},
     "output_type": "display_data"
    }
   ],
   "source": [
    "#1. Import relevant packages. Ensure you have them installed on your Anaconda environment or they will fail to import.\n",
    "\n",
    "import numpy as np\n",
    "from Bio import SeqIO\n",
    "import pandas as pd\n",
    "import os\n",
    "import sys\n",
    "\n",
    "from IPython.display import HTML, display\n",
    "def set_background(color):    \n",
    "    script = (\n",
    "        \"var cell = this.closest('.jp-CodeCell');\"\n",
    "        \"var editor = cell.querySelector('.jp-Editor');\"\n",
    "        \"editor.style.background='{}';\"\n",
    "        \"this.parentNode.removeChild(this)\"\n",
    "    ).format(color)\n",
    "    display(HTML('<img src onerror=\"{}\" style=\"display:none\">'.format(script)))\n",
    "\n",
    "set_background('#000000')"
   ]
  },
  {
   "cell_type": "code",
   "execution_count": 337,
   "id": "3a6290f3-e54a-4b72-ad9e-0703d8556074",
   "metadata": {},
   "outputs": [
    {
     "data": {
      "text/html": [
       "<img src onerror=\"var cell = this.closest('.jp-CodeCell');var editor = cell.querySelector('.jp-Editor');editor.style.background='#000000';this.parentNode.removeChild(this)\" style=\"display:none\">"
      ],
      "text/plain": [
       "<IPython.core.display.HTML object>"
      ]
     },
     "metadata": {},
     "output_type": "display_data"
    }
   ],
   "source": [
    "#2. Import Fasta from Relative Path\n",
    "    #Tip: Fasta file needs to be in the same folder as your Jupyter Notebook\n",
    "\n",
    "file_name = 'C1.308.fa'\n",
    "set_background('#000000')"
   ]
  },
  {
   "cell_type": "code",
   "execution_count": 338,
   "id": "1e631bbf-5be3-41e8-ad39-345fa1995900",
   "metadata": {},
   "outputs": [
    {
     "data": {
      "text/html": [
       "<img src onerror=\"var cell = this.closest('.jp-CodeCell');var editor = cell.querySelector('.jp-Editor');editor.style.background='#000000';this.parentNode.removeChild(this)\" style=\"display:none\">"
      ],
      "text/plain": [
       "<IPython.core.display.HTML object>"
      ]
     },
     "metadata": {},
     "output_type": "display_data"
    }
   ],
   "source": [
    "#2. Import Fasta from Absolute Path\n",
    "    #Tip: Make sure your file path has .fasta at the end.\n",
    "    #Example: 'C:\\User\\chris\\c1.308.fasta'\n",
    "\n",
    "#CODE file_name = 'C:\\Benutzer\\Christina Bugert\\DNA analysis projects\\dna_sequences\\C1.308.fa'\n",
    "set_background('#000000')"
   ]
  },
  {
   "cell_type": "code",
   "execution_count": 339,
   "id": "bdebbd8f-15ed-4cd7-90d4-2042552b173a",
   "metadata": {},
   "outputs": [
    {
     "data": {
      "text/html": [
       "<img src onerror=\"var cell = this.closest('.jp-CodeCell');var editor = cell.querySelector('.jp-Editor');editor.style.background='#000000';this.parentNode.removeChild(this)\" style=\"display:none\">"
      ],
      "text/plain": [
       "<IPython.core.display.HTML object>"
      ]
     },
     "metadata": {},
     "output_type": "display_data"
    }
   ],
   "source": [
    "#3. Open your Sequence file and look at the contents\n",
    "\n",
    "with open(file_name, 'r') as file:\n",
    "    sequences = SeqIO.parse(file, 'fasta')\n",
    "    for seq_record in sequences:\n",
    "        print(f\"ID: {seq_record.id}\")\n",
    "        print(f\"Description: {seq_record.description}\")\n",
    "        print(f\"Sequence: {seq_record.seq}\") #add f before \"Sequence to see your whole file\n",
    "\n",
    "set_background('#000000')"
   ]
  },
  {
   "cell_type": "code",
   "execution_count": 340,
   "id": "a8d883ca-f62f-4dd8-aac9-5c9dd4251268",
   "metadata": {},
   "outputs": [
    {
     "data": {
      "text/html": [
       "<img src onerror=\"var cell = this.closest('.jp-CodeCell');var editor = cell.querySelector('.jp-Editor');editor.style.background='#000000';this.parentNode.removeChild(this)\" style=\"display:none\">"
      ],
      "text/plain": [
       "<IPython.core.display.HTML object>"
      ]
     },
     "metadata": {},
     "output_type": "display_data"
    }
   ],
   "source": [
    "#4. Create a DataFrame from the parsed records\n",
    "\n",
    "df = pd.DataFrame(fasta_records, columns=['FastaID', 'Description', 'Sequence'])\n",
    "\n",
    "#Display the DataFrame to verify sorting of the columns.\n",
    "#CODEprint(df.head())\n",
    "\n",
    "set_background('#000000')"
   ]
  },
  {
   "cell_type": "code",
   "execution_count": 341,
   "id": "a7c6a9e5-8557-47a3-9ea7-28c0d9931f18",
   "metadata": {},
   "outputs": [
    {
     "data": {
      "text/html": [
       "<img src onerror=\"var cell = this.closest('.jp-CodeCell');var editor = cell.querySelector('.jp-Editor');editor.style.background='#000000';this.parentNode.removeChild(this)\" style=\"display:none\">"
      ],
      "text/plain": [
       "<IPython.core.display.HTML object>"
      ]
     },
     "metadata": {},
     "output_type": "display_data"
    }
   ],
   "source": [
    "#5. Data cleansing\n",
    "\n",
    "#Convert column Sequence to a string\n",
    "df['Sequence'] = df['Sequence'].astype(str)\n",
    "#CODEprint(df['Sequence'].dtypes)\n",
    "\n",
    "# Add Spaces between the nucleotides in your dataframe.\n",
    "#df['Sequence'] = df['Sequence'].apply(lambda x: ' '.join(list(x)))\n",
    "\n",
    "#Turn all letters from upper to lowercase\n",
    "df['Sequence'] = df['Sequence'].str.lower()\n",
    "\n",
    "#Check your output\n",
    "#CODEprint(df[f'Sequence'])\n",
    "\n",
    "\n",
    "set_background('#000000')"
   ]
  },
  {
   "cell_type": "code",
   "execution_count": 342,
   "id": "a1b70181-5496-4dff-aa35-c13f9b5c271a",
   "metadata": {},
   "outputs": [
    {
     "name": "stdout",
     "output_type": "stream",
     "text": [
      "  FastaID  G_count  A_count  C_count  T_count  DNAcount\n",
      "0  C1.308     1921     2552     1724     2290      8487\n"
     ]
    }
   ],
   "source": [
    "#6. DNA sequence count\n",
    "\n",
    "df['G_count'] = df['Sequence'].str.count('g')\n",
    "df['A_count'] = df['Sequence'].str.count('a')\n",
    "df['C_count'] = df['Sequence'].str.count('c')\n",
    "df['T_count'] = df['Sequence'].str.count('t')\n",
    "\n",
    "#Calculate sequence length\n",
    "df['DNAcount'] = df['Sequence'].apply(lambda x: len(x.replace(' ', '')))\n",
    "\n",
    "#Convert 'G_count' and 'C_count' to integers\n",
    "df['G_count'] = df['G_count'].astype(int)\n",
    "df['A_count'] = df['A_count'].astype(int)\n",
    "df['C_count'] = df['C_count'].astype(int)\n",
    "df['T_count'] = df['T_count'].astype(int)\n",
    "\n",
    "#CODEprint(df.dtypes)  # Check the data types after conversion\n",
    "\n",
    "#Display the updated DataFrame with G and C counts\n",
    "print(df[['FastaID', 'G_count', 'A_count', 'C_count', 'T_count', 'DNAcount']].head())  # Displaying FastaID, G_count, and C_count columns"
   ]
  },
  {
   "cell_type": "code",
   "execution_count": 343,
   "id": "aa922fa3-a352-42bc-bccc-544a3d1c2154",
   "metadata": {},
   "outputs": [
    {
     "name": "stdout",
     "output_type": "stream",
     "text": [
      "   DNAcount  DNAcount2\n",
      "0      8487       8487\n",
      "Data quality is consistent.\n"
     ]
    }
   ],
   "source": [
    "#6.1 Check quality of sequence counts.\n",
    "\n",
    "#Add basepairs together: Produce DNAcount2\n",
    "df['DNAcount2'] = df['G_count'] + df['A_count'] + df['C_count'] + df['T_count']\n",
    "print(df[['DNAcount', 'DNAcount2']])\n",
    "\n",
    "# Check if any DNAcount2 value is less than DNAcount\n",
    "if (df['DNAcount2'] < df['DNAcount']).any():\n",
    "    print(\"Go back to step 5 and assess data quality\")\n",
    "else:\n",
    "    print(\"Data quality is consistent.\")"
   ]
  },
  {
   "cell_type": "code",
   "execution_count": 344,
   "id": "f0df1156-2ebb-493d-8a93-4166f6d42f69",
   "metadata": {},
   "outputs": [
    {
     "name": "stdout",
     "output_type": "stream",
     "text": [
      "  FastaID  GC_percentage\n",
      "0  C1.308      42.948038\n",
      "The GC Percentage of this sequence is 42.95 Percent (%).\n"
     ]
    }
   ],
   "source": [
    "#7. Calculate GC content of sequence\n",
    "\n",
    "df['GC_percentage'] = ((df['G_count'] + df['C_count']) / df['DNAcount']) * 100\n",
    "print(df[['FastaID','GC_percentage']])\n",
    "\n",
    "gc_percentage = df['GC_percentage'].iloc[0]  # Fetch the percentage\n",
    "\n",
    "# Formatting and printing the output\n",
    "print(f\"The GC Percentage of this sequence is {gc_percentage:.2f} Percent (%).\")"
   ]
  },
  {
   "cell_type": "code",
   "execution_count": 345,
   "id": "8641e3c0-8254-41ae-946e-5f74a34f0624",
   "metadata": {},
   "outputs": [
    {
     "name": "stdout",
     "output_type": "stream",
     "text": [
      "  FastaID  G_count  A_count  C_count  T_count  DNAcount  GC_percentage\n",
      "0  C1.308     1921     2552     1724     2290      8487      42.948038\n",
      "\n"
     ]
    }
   ],
   "source": [
    "#8. Export nucleotide content and GC Percentage to a text file. \n",
    "#Make sure you've run cells 6 to 7.\n",
    "\n",
    "#Store the current system output\n",
    "original_stdout = sys.stdout\n",
    "\n",
    "#Define the file to which you want to redirect the print statements\n",
    "file_name2 = 'Nucleotide_GC.txt'\n",
    "\n",
    "#Open the file in write mode\n",
    "with open(file_name2, 'w') as f:\n",
    "    #Redirect sys.stdout to the file\n",
    "    sys.stdout = f\n",
    "    #Your code with print statements\n",
    "    print(df[['FastaID', 'G_count', 'A_count', 'C_count', 'T_count', 'DNAcount', 'GC_percentage']])\n",
    "    #Restore the original stdout\n",
    "    sys.stdout = original_stdout\n",
    "\n",
    "#Confirm that the print statements were redirected by reading the file.\n",
    "with open(file_name2, 'r') as f:\n",
    "    content = f.read()\n",
    "    print(content)\n"
   ]
  },
  {
   "cell_type": "code",
   "execution_count": 346,
   "id": "da3e4d30-c035-41e9-bece-691b56f3a52d",
   "metadata": {},
   "outputs": [],
   "source": [
    "#9. Convert DNA nucleotides to RNA\n",
    "\n",
    "# Assuming your DataFrame is named df and the column containing DNA sequences is 'Sequence'\n",
    "df['RNASequence'] = df['Sequence'].str.replace('t', 'u', case=False)\n",
    "df['RNASequence'] = df['RNASequence'].astype(str)\n",
    "\n",
    "#Make column U_count and count number of U's in the sequence.\n",
    "df['U_count'] = df['RNASequence'].str.count('u')\n",
    "df['U_count'] = df['U_count'].astype(int)\n"
   ]
  },
  {
   "cell_type": "code",
   "execution_count": 347,
   "id": "fb0f73f2-170f-4da1-9b5c-b9ee78a090a4",
   "metadata": {},
   "outputs": [
    {
     "name": "stdout",
     "output_type": "stream",
     "text": [
      "0    8487\n",
      "Name: RNAcount, dtype: int64\n",
      "Well done, total number of nucleotides in the sequence is correct.\n",
      "Well done, number of Uracils is consistent.\n"
     ]
    }
   ],
   "source": [
    "#9.1 Check quality of sequence counts\n",
    "\n",
    "#Make sure none of your data has been lost.\n",
    "df['RNAcount'] = df['RNASequence'].apply(lambda x: len(x.replace(' ', '')))\n",
    "print(df['RNAcount'])\n",
    "\n",
    "if (df['RNAcount'] < df['DNAcount']).any():\n",
    "    print(\"Oops, go back to step 7 and assess data quality\")\n",
    "else:\n",
    "    print(\"Well done, total number of nucleotides in the sequence is correct.\")\n",
    "\n",
    "\n",
    "# Make sure the number of Uracil and Thymine is the same.\n",
    "if (df['U_count'] < df['T_count']).any():\n",
    "    print(\"Oops, go back to step 7 and assess data quality\")\n",
    "else:\n",
    "    print(\"Well done, number of Uracils is consistent.\")\n"
   ]
  },
  {
   "cell_type": "code",
   "execution_count": 350,
   "id": "2c0e31d5-ff30-41ff-bb7e-c1545dc1c29b",
   "metadata": {},
   "outputs": [
    {
     "name": "stdout",
     "output_type": "stream",
     "text": [
      "  FastaID  G_count  A_count  C_count  T_count  DNAcount  GC_percentage\n",
      "0  C1.308     1921     2552     1724     2290      8487      42.948038\n",
      "\n"
     ]
    }
   ],
   "source": [
    "#10. Export nucleotide content and GC Percentage to a text file. \n",
    "#Make sure you've run cells 6 to 7.\n",
    "\n",
    "#Store the current system output\n",
    "original_stdout = sys.stdout\n",
    "\n",
    "#Define the file to which you want to redirect the print statements\n",
    "file_name3 = 'RNASequence.txt'\n",
    "\n",
    "#Open the file in write mode\n",
    "with open(file_name3, 'w') as f:\n",
    "    #Redirect sys.stdout to the file\n",
    "    sys.stdout = f\n",
    "    #Your code with print statements\n",
    "    print(df[['FastaID', 'G_count', 'A_count', 'C_count', 'U_count', 'RNASequence']])\n",
    "    #Restore the original stdout\n",
    "    sys.stdout = original_stdout\n",
    "\n",
    "#Confirm that the print statements were redirected by reading the file.\n",
    "with open(file_name2, 'r') as f:\n",
    "    content = f.read()\n",
    "    print(content)"
   ]
  },
  {
   "cell_type": "code",
   "execution_count": 348,
   "id": "e6864407-59fe-4284-b1be-d8a1ba10c048",
   "metadata": {},
   "outputs": [
    {
     "name": "stdout",
     "output_type": "stream",
     "text": [
      "An error occurred while exporting RNA sequences: 'RNAsequence'\n"
     ]
    }
   ],
   "source": [
    "# Assuming 'rna_sequence' is the variable containing your RNA sequence\n",
    "file_name4 = 'rna_output.txt'\n",
    "\n",
    "try:\n",
    "    # Open the file in write mode\n",
    "    with open(file_name4, 'w') as file:\n",
    "        # Iterate through each RNA sequence in the 'RNAsequence' column and write to the file\n",
    "        for rna_sequence in df['RNAsequence']:\n",
    "            file.write(str(rna_sequence) + '\\n')  # Assuming the sequences are strings\n",
    "            \n",
    "    print(\"RNA sequences successfully exported to\", file_name4)\n",
    "except Exception as e:\n",
    "    print(\"An error occurred while exporting RNA sequences:\", str(e))\n"
   ]
  },
  {
   "cell_type": "code",
   "execution_count": 349,
   "id": "aea5742f-d785-4d05-a1e5-a0d7fcd778b1",
   "metadata": {},
   "outputs": [
    {
     "name": "stdout",
     "output_type": "stream",
     "text": [
      "0    No start codon found\n",
      "Name: Circular_Protein_Sequence, dtype: object\n"
     ]
    }
   ],
   "source": [
    "#11 Function to translate DNA sequence to amino acids\n",
    "\n",
    "# Function to perform circular translation\n",
    "def translate_circular_dna(sequence):\n",
    "    # Find the index of the first occurrence of 'aug' (start codon)\n",
    "    start_index = sequence.lower().find('aug')\n",
    "\n",
    "    if start_index != -1:\n",
    "        # Circular translation from 'AUG' to the end of the sequence\n",
    "        translated_seq = translate_dna_to_protein(sequence[start_index:] + sequence[:start_index])\n",
    "        return translated_seq\n",
    "    else:\n",
    "        # If 'AUG' is not found, return a placeholder or handle as needed\n",
    "        return \"No start codon found\"\n",
    "\n",
    "# Applying the circular translation function to the 'Sequence' column\n",
    "df['Circular_Protein_Sequence'] = df['Sequence'].apply(translate_circular_dna)\n",
    "\n",
    "# Display the result\n",
    "print(df['Circular_Protein_Sequence'])"
   ]
  },
  {
   "cell_type": "code",
   "execution_count": null,
   "id": "ee76a89d-f37b-4b59-827b-0d2e4c723347",
   "metadata": {},
   "outputs": [],
   "source": []
  }
 ],
 "metadata": {
  "kernelspec": {
   "display_name": "Python 3 (ipykernel)",
   "language": "python",
   "name": "python3"
  },
  "language_info": {
   "codemirror_mode": {
    "name": "ipython",
    "version": 3
   },
   "file_extension": ".py",
   "mimetype": "text/x-python",
   "name": "python",
   "nbconvert_exporter": "python",
   "pygments_lexer": "ipython3",
   "version": "3.9.18"
  }
 },
 "nbformat": 4,
 "nbformat_minor": 5
}
