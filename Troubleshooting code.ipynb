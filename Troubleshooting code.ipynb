{
 "cells": [
  {
   "cell_type": "code",
   "execution_count": null,
   "id": "3e915a39-9e33-44db-9cc7-cba9ce729639",
   "metadata": {},
   "outputs": [],
   "source": [
    "#3. TROUBLESHOOTING: \n",
    "#Check to see if your file path is valid.\n",
    "        #if os.path.exists(file_name):\n",
    "        #    print(\"File exists\")\n",
    "        #else:\n",
    "        #    print(\"File not found\")"
   ]
  },
  {
   "cell_type": "code",
   "execution_count": null,
   "id": "61f2a42a-4e81-486b-843b-1f0b303e1935",
   "metadata": {},
   "outputs": [],
   "source": [
    "#3.1 TROUBLESHOOTING: File not found\n",
    "#Find your current working directory: Where the computer searches for your files\n",
    "        #print(os.getcwd())\n",
    "#Print contents of your current working directory\n",
    "        #print(os.listdir())\n",
    "#Explicitly list what is in my current working directory\n",
    "        #for root, dirs, files in os.walk('.'):\n",
    "        #    print(f\"Root: {root}\")\n",
    "        #    print(f\"Directories: {dirs}\")\n",
    "        #    print(f\"Files: {files}\")"
   ]
  },
  {
   "cell_type": "code",
   "execution_count": null,
   "id": "eff1e026-7915-4778-b9ce-14c9d0f2325a",
   "metadata": {},
   "outputs": [],
   "source": [
    "#4.1 Simple file parse\n",
    "# Parse the FASTA file and store records in a list\n",
    "#fasta_records = []\n",
    "#for record in SeqIO.parse(file_name, 'fasta'):\n",
    "#    fasta_records.append((record.id, record.description, str(record.seq)))\n",
    "\n",
    "# Display the first few records for verification\n",
    "#print(fasta_records[:5])"
   ]
  },
  {
   "cell_type": "code",
   "execution_count": null,
   "id": "c980193f-5109-4ca8-9b55-d08389ecc782",
   "metadata": {},
   "outputs": [],
   "source": []
  }
 ],
 "metadata": {
  "kernelspec": {
   "display_name": "Python 3 (ipykernel)",
   "language": "python",
   "name": "python3"
  },
  "language_info": {
   "codemirror_mode": {
    "name": "ipython",
    "version": 3
   },
   "file_extension": ".py",
   "mimetype": "text/x-python",
   "name": "python",
   "nbconvert_exporter": "python",
   "pygments_lexer": "ipython3",
   "version": "3.9.18"
  }
 },
 "nbformat": 4,
 "nbformat_minor": 5
}
