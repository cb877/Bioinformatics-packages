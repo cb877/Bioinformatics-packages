{
 "cells": [
  {
   "cell_type": "markdown",
   "id": "e8c7956e-cad7-44a9-8942-8c28e62887c6",
   "metadata": {},
   "source": [
    "### Guide to using Jupyter Notebook Christina's DNA Analysis codes.\n",
    "\n",
    "<font color='green'>**Using functions you need**</font> \\\n",
    "You will need to read cells 1-5 regardless of which functions you want to analyse your DNA with. After that select whichever cell you need. Cells 6 and 7 must be used chronologically. Cells 8 and 9 must be used chronologically. \n",
    "\n",
    "<font color='green'>**Keeping Outputs concise**</font> \\\n",
    "Some readable code has been muted (#) to make analysis more streamlined. Delete only the four letters in #CODE, but don't change any of the spacing. Spacing is essential for readability of python scripts.\n",
    "\n",
    "<font color='green'>**Data Quality checkpoints**</font> \\\n",
    "A number of cells are numbered as .1 and are data quality checkpoints. These are to make sure your imports and code is being read correctly. You don't need to run them if your code is working, but it's always good to double check.\n",
    "\n",
    "<font color='green'>**Troubleshooting**</font> \\\n",
    "There is a separate Jupyter Notebook called Troubleshooting if you are having issues importing your files."
   ]
  },
  {
   "cell_type": "code",
   "execution_count": 1,
   "id": "65f2bf59-ac55-41e8-8c19-f3e3d1822634",
   "metadata": {},
   "outputs": [
    {
     "data": {
      "text/html": [
       "<img src onerror=\"var cell = this.closest('.jp-CodeCell');var editor = cell.querySelector('.jp-Editor');editor.style.background='#000000';this.parentNode.removeChild(this)\" style=\"display:none\">"
      ],
      "text/plain": [
       "<IPython.core.display.HTML object>"
      ]
     },
     "metadata": {},
     "output_type": "display_data"
    }
   ],
   "source": [
    "#1. Import relevant packages. Ensure you have them installed on your Anaconda environment or they will fail to import.\n",
    "\n",
    "import numpy as np\n",
    "from Bio import SeqIO\n",
    "import pandas as pd\n",
    "import os\n",
    "import sys\n",
    "\n",
    "from IPython.display import HTML, display\n",
    "def set_background(color):    \n",
    "    script = (\n",
    "        \"var cell = this.closest('.jp-CodeCell');\"\n",
    "        \"var editor = cell.querySelector('.jp-Editor');\"\n",
    "        \"editor.style.background='{}';\"\n",
    "        \"this.parentNode.removeChild(this)\"\n",
    "    ).format(color)\n",
    "    display(HTML('<img src onerror=\"{}\" style=\"display:none\">'.format(script)))\n",
    "\n",
    "set_background('#000000')"
   ]
  },
  {
   "cell_type": "code",
   "execution_count": 2,
   "id": "ba6f7f28-0835-45d7-852c-41017af65bcf",
   "metadata": {},
   "outputs": [
    {
     "data": {
      "text/html": [
       "<img src onerror=\"var cell = this.closest('.jp-CodeCell');var editor = cell.querySelector('.jp-Editor');editor.style.background='#000000';this.parentNode.removeChild(this)\" style=\"display:none\">"
      ],
      "text/plain": [
       "<IPython.core.display.HTML object>"
      ]
     },
     "metadata": {},
     "output_type": "display_data"
    }
   ],
   "source": [
    "#2. Import Fasta from Relative Path\n",
    "    #Tip: Fasta file needs to be in the same folder as your Jupyter Notebook\n",
    "\n",
    "file_name = 'C1.308.fa'\n",
    "set_background('#000000')"
   ]
  },
  {
   "cell_type": "code",
   "execution_count": 3,
   "id": "082ceaaf-f86d-4d88-83ac-5f210c23b0b5",
   "metadata": {},
   "outputs": [
    {
     "data": {
      "text/html": [
       "<img src onerror=\"var cell = this.closest('.jp-CodeCell');var editor = cell.querySelector('.jp-Editor');editor.style.background='#000000';this.parentNode.removeChild(this)\" style=\"display:none\">"
      ],
      "text/plain": [
       "<IPython.core.display.HTML object>"
      ]
     },
     "metadata": {},
     "output_type": "display_data"
    }
   ],
   "source": [
    "#3. Open your Sequence file and look at the contents\n",
    "\n",
    "with open(file_name, 'r') as file:\n",
    "    sequences = SeqIO.parse(file, 'fasta')\n",
    "    for seq_record in sequences:\n",
    "        print(f\"ID: {seq_record.id}\")\n",
    "        print(f\"Description: {seq_record.description}\")\n",
    "        print(f\"Sequence: {seq_record.seq}\") #add f before \"Sequence to see your whole file\n",
    "\n",
    "set_background('#000000')"
   ]
  },
  {
   "cell_type": "code",
   "execution_count": 7,
   "id": "871e5ce4-de97-40c0-ba65-5ec9452856aa",
   "metadata": {},
   "outputs": [
    {
     "data": {
      "text/html": [
       "<img src onerror=\"var cell = this.closest('.jp-CodeCell');var editor = cell.querySelector('.jp-Editor');editor.style.background='#000000';this.parentNode.removeChild(this)\" style=\"display:none\">"
      ],
      "text/plain": [
       "<IPython.core.display.HTML object>"
      ]
     },
     "metadata": {},
     "output_type": "display_data"
    }
   ],
   "source": [
    "#4. Create a DataFrame from the parsed records\n",
    "\n",
    "df = pd.DataFrame(sequences, columns=['FastaID', 'Description', 'Sequence'])\n",
    "\n",
    "#Display the DataFrame to verify sorting of the columns.\n",
    "#CODEprint(df.head())\n",
    "\n",
    "set_background('#000000')"
   ]
  },
  {
   "cell_type": "code",
   "execution_count": 11,
   "id": "c5cb69dd-096c-4c4e-8e26-dd12d51f5655",
   "metadata": {},
   "outputs": [
    {
     "name": "stdout",
     "output_type": "stream",
     "text": [
      "object\n"
     ]
    },
    {
     "data": {
      "text/html": [
       "<img src onerror=\"var cell = this.closest('.jp-CodeCell');var editor = cell.querySelector('.jp-Editor');editor.style.background='#000000';this.parentNode.removeChild(this)\" style=\"display:none\">"
      ],
      "text/plain": [
       "<IPython.core.display.HTML object>"
      ]
     },
     "metadata": {},
     "output_type": "display_data"
    }
   ],
   "source": [
    "#5. Data cleansing\n",
    "\n",
    "#Convert column Sequence to a string\n",
    "df['Sequence'] = df['Sequence'].astype(str)\n",
    "#CODEprint(df['Sequence'].dtypes)\n",
    "\n",
    "# Add Spaces between the nucleotides in your dataframe.\n",
    "#df['Sequence'] = df['Sequence'].apply(lambda x: ' '.join(list(x)))\n",
    "\n",
    "#Turn all letters from upper to lowercase\n",
    "df['Sequence'] = df['Sequence'].str.lower()\n",
    "\n",
    "#Check your output\n",
    "#CODEprint(df[f'Sequence'])\n",
    "\n",
    "\n",
    "set_background('#000000')"
   ]
  },
  {
   "cell_type": "code",
   "execution_count": 9,
   "id": "98686e4e-0aa0-4635-976e-d75624df4299",
   "metadata": {},
   "outputs": [
    {
     "name": "stdout",
     "output_type": "stream",
     "text": [
      "Series([], Name: U_count, dtype: int32)\n"
     ]
    }
   ],
   "source": [
    "#9. Convert DNA nucleotides to RNA\n",
    "\n",
    "# Assuming your DataFrame is named df and the column containing DNA sequences is 'Sequence'\n",
    "df['RNASequence'] = df['Sequence'].str.replace('t', 'u', case=False)\n",
    "\n",
    "#Make column U_count and count number of U's in the sequence.\n",
    "df['U_count'] = df['RNASequence'].str.count('u')\n",
    "df['U_count'] = df['U_count'].astype(int)\n",
    "print(df['U_count'])"
   ]
  },
  {
   "cell_type": "code",
   "execution_count": 10,
   "id": "3f516c09-c7fa-4d01-a9ee-447386dc2df7",
   "metadata": {},
   "outputs": [
    {
     "name": "stdout",
     "output_type": "stream",
     "text": [
      "Empty DataFrame\n",
      "Columns: [U_count, RNASequence]\n",
      "Index: []\n",
      "\n"
     ]
    }
   ],
   "source": [
    "#10. Export nucleotide content and GC Percentage to a text file. \n",
    "#Make sure you've run cells 6 to 7.\n",
    "\n",
    "#Store the current system output\n",
    "original_stdout = sys.stdout\n",
    "\n",
    "#Define the file to which you want to redirect the print statements\n",
    "file_name2 = 'RNASequence.txt'\n",
    "\n",
    "#Open the file in write mode\n",
    "with open(file_name2, 'w') as f:\n",
    "    #Redirect sys.stdout to the file\n",
    "    sys.stdout = f\n",
    "    #Your code with print statements\n",
    "    print(df[['U_count', 'RNASequence']])\n",
    "    #Restore the original stdout\n",
    "    sys.stdout = original_stdout\n",
    "\n",
    "#Confirm that the print statements were redirected by reading the file.\n",
    "with open(file_name2, 'r') as f:\n",
    "    content = f.read()\n",
    "    print(content)"
   ]
  },
  {
   "cell_type": "code",
   "execution_count": null,
   "id": "c40e2df3-9a43-4f3a-91a8-4e7cd182c38a",
   "metadata": {},
   "outputs": [],
   "source": []
  }
 ],
 "metadata": {
  "kernelspec": {
   "display_name": "Python 3 (ipykernel)",
   "language": "python",
   "name": "python3"
  },
  "language_info": {
   "codemirror_mode": {
    "name": "ipython",
    "version": 3
   },
   "file_extension": ".py",
   "mimetype": "text/x-python",
   "name": "python",
   "nbconvert_exporter": "python",
   "pygments_lexer": "ipython3",
   "version": "3.9.18"
  }
 },
 "nbformat": 4,
 "nbformat_minor": 5
}
